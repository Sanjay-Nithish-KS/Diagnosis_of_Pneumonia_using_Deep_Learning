{
 "cells": [
  {
   "cell_type": "code",
   "execution_count": 1,
   "id": "curious-passport",
   "metadata": {},
   "outputs": [],
   "source": [
    "from keras.models import Sequential\n",
    "from keras.layers import Conv2D\n",
    "from keras.layers import MaxPooling2D\n",
    "from keras.layers import Flatten\n",
    "from keras.layers import Dense\n",
    "from keras.preprocessing.image import ImageDataGenerator\n",
    "import numpy as np\n",
    "from keras.preprocessing import image\n",
    "import os\n",
    "import matplotlib.pyplot as plt\n",
    "import cv2"
   ]
  },
  {
   "cell_type": "code",
   "execution_count": 2,
   "id": "impossible-gentleman",
   "metadata": {},
   "outputs": [],
   "source": [
    "img_dims = 32\n",
    "batch_size = 32"
   ]
  },
  {
   "cell_type": "markdown",
   "id": "aggregate-domain",
   "metadata": {},
   "source": [
    "### Model 1"
   ]
  },
  {
   "cell_type": "code",
   "execution_count": 3,
   "id": "later-headquarters",
   "metadata": {},
   "outputs": [],
   "source": [
    "classifier = Sequential()\n",
    "classifier.add(Conv2D(32, (3, 3), \n",
    "                      input_shape = (img_dims, img_dims, 3), \n",
    "                      activation = 'relu'))\n",
    "classifier.add(MaxPooling2D(pool_size = (2, 2)))\n",
    "classifier.add(Flatten())\n",
    "classifier.add(Dense(units = 128, activation = 'relu'))\n",
    "classifier.add(Dense(units = 1, activation = 'sigmoid'))"
   ]
  },
  {
   "cell_type": "code",
   "execution_count": 4,
   "id": "african-planning",
   "metadata": {},
   "outputs": [
    {
     "name": "stdout",
     "output_type": "stream",
     "text": [
      "Found 5216 images belonging to 2 classes.\n",
      "Found 624 images belonging to 2 classes.\n"
     ]
    }
   ],
   "source": [
    "input_path = 'Dataset/chest_xray/'\n",
    "train_datagen = ImageDataGenerator(rescale = 1./255,\n",
    "shear_range = 0.2,\n",
    "zoom_range = 0.2,\n",
    "horizontal_flip = True)\n",
    "test_datagen = ImageDataGenerator(rescale = 1./255)\n",
    "training_set = train_datagen.flow_from_directory(directory=input_path+'train',\n",
    "target_size = (img_dims, img_dims),\n",
    "batch_size = 1,\n",
    "class_mode = 'binary')\n",
    "test_set = test_datagen.flow_from_directory(directory=input_path+'test',\n",
    "target_size = (img_dims, img_dims),\n",
    "batch_size = 1,\n",
    "class_mode = 'binary')"
   ]
  },
  {
   "cell_type": "code",
   "execution_count": 5,
   "id": "fancy-marsh",
   "metadata": {},
   "outputs": [],
   "source": [
    "classifier.compile(optimizer = 'adam', \n",
    "                   loss = 'binary_crossentropy',\n",
    "                   metrics = ['accuracy'])"
   ]
  },
  {
   "cell_type": "code",
   "execution_count": 6,
   "id": "european-coating",
   "metadata": {},
   "outputs": [
    {
     "name": "stdout",
     "output_type": "stream",
     "text": [
      "Epoch 1/10\n",
      "162/162 [==============================] - 35s 109ms/step - loss: 1.0082 - accuracy: 0.7371 - val_loss: 0.9004 - val_accuracy: 0.6250\n",
      "Epoch 2/10\n",
      "162/162 [==============================] - 11s 69ms/step - loss: 0.5072 - accuracy: 0.8076 - val_loss: 0.6482 - val_accuracy: 0.6250\n",
      "Epoch 3/10\n",
      "162/162 [==============================] - 10s 65ms/step - loss: 0.5343 - accuracy: 0.7799 - val_loss: 0.7328 - val_accuracy: 0.4551\n",
      "Epoch 4/10\n",
      "162/162 [==============================] - 11s 65ms/step - loss: 0.5613 - accuracy: 0.6786 - val_loss: 0.4690 - val_accuracy: 0.7949\n",
      "Epoch 5/10\n",
      "162/162 [==============================] - 11s 66ms/step - loss: 0.4205 - accuracy: 0.8190 - val_loss: 0.4247 - val_accuracy: 0.8606\n",
      "Epoch 6/10\n",
      "162/162 [==============================] - 11s 66ms/step - loss: 0.4009 - accuracy: 0.8615 - val_loss: 0.4318 - val_accuracy: 0.8093\n",
      "Epoch 7/10\n",
      "162/162 [==============================] - 11s 65ms/step - loss: 0.4268 - accuracy: 0.8280 - val_loss: 0.3725 - val_accuracy: 0.8365\n",
      "Epoch 8/10\n",
      "162/162 [==============================] - 11s 68ms/step - loss: 0.3914 - accuracy: 0.7840 - val_loss: 0.4639 - val_accuracy: 0.7628\n",
      "Epoch 9/10\n",
      "162/162 [==============================] - 11s 67ms/step - loss: 0.3110 - accuracy: 0.8521 - val_loss: 0.3764 - val_accuracy: 0.8205\n",
      "Epoch 10/10\n",
      "162/162 [==============================] - 10s 62ms/step - loss: 0.3655 - accuracy: 0.8651 - val_loss: 0.3384 - val_accuracy: 0.8365\n"
     ]
    }
   ],
   "source": [
    "epochs=10\n",
    "hist = classifier.fit(\n",
    "           training_set,\n",
    "           steps_per_epoch = training_set.samples//batch_size-1,\n",
    "           epochs=10, validation_data=test_set, \n",
    "           validation_steps= test_set.samples)"
   ]
  },
  {
   "cell_type": "code",
   "execution_count": 7,
   "id": "steady-excess",
   "metadata": {
    "scrolled": true
   },
   "outputs": [
    {
     "name": "stdout",
     "output_type": "stream",
     "text": [
      "CONFUSION MATRIX ------------------\n",
      "[[156  78]\n",
      " [ 25 365]]\n",
      "\n",
      "TEST METRICS ----------------------\n",
      "Accuracy: 83.49358974358975%\n",
      "Precision: 82.39277652370203%\n",
      "Recall: 93.58974358974359%\n",
      "F1-score: 87.63505402160864\n"
     ]
    }
   ],
   "source": [
    "test_data = []\n",
    "test_labels = []\n",
    "for cond in ['/NORMAL/', '/PNEUMONIA/']:\n",
    "        for img in (os.listdir(input_path + 'test' + cond)):\n",
    "            \n",
    "            img = plt.imread(input_path+'test'+cond+img)\n",
    "            img = cv2.resize(img, (img_dims, img_dims))\n",
    "            img = np.dstack([img, img, img])\n",
    "            img = img.astype('float32') / 255\n",
    "            if cond=='/NORMAL/':\n",
    "                label = 0\n",
    "            elif cond=='/PNEUMONIA/':\n",
    "                label = 1\n",
    "            test_data.append(img)\n",
    "            test_labels.append(label)\n",
    "        \n",
    "test_data = np.array(test_data)\n",
    "test_labels = np.array(test_labels)\n",
    "from sklearn.metrics import accuracy_score, confusion_matrix\n",
    "\n",
    "preds = classifier.predict(test_data)\n",
    "\n",
    "acc = accuracy_score(test_labels, np.round(preds))*100\n",
    "cm = confusion_matrix(test_labels, np.round(preds))\n",
    "tn, fp, fn, tp = cm.ravel()\n",
    "\n",
    "print('CONFUSION MATRIX ------------------')\n",
    "print(cm)\n",
    "\n",
    "print('\\nTEST METRICS ----------------------')\n",
    "precision = tp/(tp+fp)*100\n",
    "recall = tp/(tp+fn)*100\n",
    "print('Accuracy: {}%'.format(acc))\n",
    "print('Precision: {}%'.format(precision))\n",
    "print('Recall: {}%'.format(recall))\n",
    "print('F1-score: {}'.format(2*precision*recall/(precision+recall)))\n"
   ]
  },
  {
   "cell_type": "markdown",
   "id": "important-message",
   "metadata": {},
   "source": [
    "### Model 2"
   ]
  },
  {
   "cell_type": "code",
   "execution_count": 8,
   "id": "second-orange",
   "metadata": {},
   "outputs": [],
   "source": [
    "classifier1 = Sequential()\n",
    "classifier1.add(Conv2D(32, (3, 3), input_shape = (img_dims, img_dims, 3), activation = 'relu'))\n",
    "classifier1.add(MaxPooling2D(pool_size = (2, 2)))\n",
    "classifier1.add(Conv2D(64, (3, 3), input_shape = (img_dims, img_dims, 3), activation = 'relu'))\n",
    "classifier1.add(MaxPooling2D(pool_size = (2, 2)))\n",
    "classifier1.add(Flatten())\n",
    "classifier1.add(Dense(units = 128, activation = 'relu'))\n",
    "classifier1.add(Dense(units = 1, activation = 'sigmoid'))"
   ]
  },
  {
   "cell_type": "code",
   "execution_count": 9,
   "id": "demographic-stable",
   "metadata": {},
   "outputs": [],
   "source": [
    "classifier1.compile(optimizer = 'adam', loss = 'binary_crossentropy', metrics = ['accuracy'])"
   ]
  },
  {
   "cell_type": "code",
   "execution_count": 10,
   "id": "floating-timber",
   "metadata": {},
   "outputs": [
    {
     "name": "stdout",
     "output_type": "stream",
     "text": [
      "Epoch 1/10\n",
      "162/162 [==============================] - 11s 65ms/step - loss: 0.6545 - accuracy: 0.6697 - val_loss: 0.6636 - val_accuracy: 0.6250\n",
      "Epoch 2/10\n",
      "162/162 [==============================] - 11s 67ms/step - loss: 0.6061 - accuracy: 0.7373 - val_loss: 0.6603 - val_accuracy: 0.6250\n",
      "Epoch 3/10\n",
      "162/162 [==============================] - 10s 63ms/step - loss: 0.5701 - accuracy: 0.7903 - val_loss: 0.8976 - val_accuracy: 0.6250\n",
      "Epoch 4/10\n",
      "162/162 [==============================] - 10s 62ms/step - loss: 0.5079 - accuracy: 0.7810 - val_loss: 0.4944 - val_accuracy: 0.8349\n",
      "Epoch 5/10\n",
      "162/162 [==============================] - 10s 62ms/step - loss: 0.5575 - accuracy: 0.7845 - val_loss: 0.5276 - val_accuracy: 0.8253\n",
      "Epoch 6/10\n",
      "162/162 [==============================] - 10s 63ms/step - loss: 0.4742 - accuracy: 0.8208 - val_loss: 0.6343 - val_accuracy: 0.6378\n",
      "Epoch 7/10\n",
      "162/162 [==============================] - 10s 62ms/step - loss: 0.4525 - accuracy: 0.8178 - val_loss: 0.3955 - val_accuracy: 0.8141\n",
      "Epoch 8/10\n",
      "162/162 [==============================] - 10s 62ms/step - loss: 0.3081 - accuracy: 0.8743 - val_loss: 0.6763 - val_accuracy: 0.6907\n",
      "Epoch 9/10\n",
      "162/162 [==============================] - 10s 61ms/step - loss: 0.3600 - accuracy: 0.8457 - val_loss: 0.3388 - val_accuracy: 0.8526\n",
      "Epoch 10/10\n",
      "162/162 [==============================] - 10s 59ms/step - loss: 0.2283 - accuracy: 0.9426 - val_loss: 0.3569 - val_accuracy: 0.8462\n"
     ]
    }
   ],
   "source": [
    "epochs=10\n",
    "hist1 = classifier1.fit(\n",
    "           training_set,steps_per_epoch = training_set.samples//batch_size-1,\n",
    "           epochs=10, validation_data=test_set, \n",
    "           validation_steps= test_set.samples)"
   ]
  },
  {
   "cell_type": "code",
   "execution_count": 11,
   "id": "russian-submission",
   "metadata": {},
   "outputs": [
    {
     "name": "stdout",
     "output_type": "stream",
     "text": [
      "CONFUSION MATRIX ------------------\n",
      "[[177  57]\n",
      " [ 41 349]]\n",
      "\n",
      "TEST METRICS ----------------------\n",
      "Accuracy: 84.2948717948718%\n",
      "Precision: 85.96059113300493%\n",
      "Recall: 89.48717948717949%\n",
      "F1-score: 87.68844221105527\n"
     ]
    }
   ],
   "source": [
    "preds = classifier1.predict(test_data)\n",
    "\n",
    "acc = accuracy_score(test_labels, np.round(preds))*100\n",
    "cm = confusion_matrix(test_labels, np.round(preds))\n",
    "tn, fp, fn, tp = cm.ravel()\n",
    "\n",
    "print('CONFUSION MATRIX ------------------')\n",
    "print(cm)\n",
    "\n",
    "print('\\nTEST METRICS ----------------------')\n",
    "precision = tp/(tp+fp)*100\n",
    "recall = tp/(tp+fn)*100\n",
    "print('Accuracy: {}%'.format(acc))\n",
    "print('Precision: {}%'.format(precision))\n",
    "print('Recall: {}%'.format(recall))\n",
    "print('F1-score: {}'.format(2*precision*recall/(precision+recall)))\n"
   ]
  },
  {
   "cell_type": "code",
   "execution_count": null,
   "id": "threatened-herald",
   "metadata": {},
   "outputs": [],
   "source": []
  }
 ],
 "metadata": {
  "kernelspec": {
   "display_name": "Python 3",
   "language": "python",
   "name": "python3"
  },
  "language_info": {
   "codemirror_mode": {
    "name": "ipython",
    "version": 3
   },
   "file_extension": ".py",
   "mimetype": "text/x-python",
   "name": "python",
   "nbconvert_exporter": "python",
   "pygments_lexer": "ipython3",
   "version": "3.8.5"
  }
 },
 "nbformat": 4,
 "nbformat_minor": 5
}
